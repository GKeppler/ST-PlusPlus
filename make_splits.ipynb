{
 "cells": [
  {
   "cell_type": "code",
   "execution_count": 16,
   "source": [
    "import pandas as pd\r\n",
    "import os\r\n",
    "import random\r\n",
    "\r\n",
    "path = (r\"C:\\Users\\Gustav\\Documents\\GitHub\\Masterarbeit\\Datasets\\ISIC_Demo_2017\\samples\")\r\n",
    "filelist = []\r\n",
    "csv_df = pd.read_csv(os.path.join(path,\"ISIC-2017_Validation_Data_metadata.csv\"),delimiter = \",\",sep=\",\")\r\n",
    "for row in csv_df.iterrows():\r\n",
    "    filelist.append(\"images/\"+row[1][\"image_id\"]+\".jpg\"+\" labels/\"+row[1][\"image_id\"]+\"_segmentation.png\")\r\n",
    "random.shuffle(filelist)\r\n",
    "\r\n",
    "val_data = filelist[:50]\r\n",
    "unlabeled_data = filelist[50:100]\r\n",
    "labeled_data = filelist[100:]\r\n",
    "\r\n",
    "text = \"\"\r\n",
    "for el in val_data:\r\n",
    "    text += el+\"\\n\"\r\n",
    "with open(r'dataset\\splits\\melanoma\\val.txt', 'w') as f:\r\n",
    "    f.write(text)\r\n",
    "text = \"\"\r\n",
    "for el in unlabeled_data:\r\n",
    "    text += el+\"\\n\"\r\n",
    "with open(r'dataset\\splits\\melanoma\\1_8\\split_0\\unlabeled.txt', 'w') as f:\r\n",
    "    f.write(text)    \r\n",
    "text = \"\"\r\n",
    "for el in labeled_data:\r\n",
    "    text += el+\"\\n\"\r\n",
    "with open(r'dataset\\splits\\melanoma\\1_8\\split_0\\labeled.txt', 'w') as f:\r\n",
    "    f.write(text)    \r\n",
    "\r\n"
   ],
   "outputs": [],
   "metadata": {}
  },
  {
   "cell_type": "code",
   "execution_count": 18,
   "source": [
    "print(os.path.join('C:/Users/Gustav/Documents/GitHub/Masterarbeit/ST-PlusPlus/dataset/splits/melanoma', 'bla.jpg'))"
   ],
   "outputs": [
    {
     "output_type": "stream",
     "name": "stdout",
     "text": [
      "C:/Users/Gustav/Documents/GitHub/Masterarbeit/ST-PlusPlus/dataset/splits/melanoma\\bla.jpg\n"
     ]
    }
   ],
   "metadata": {}
  },
  {
   "cell_type": "code",
   "execution_count": null,
   "source": [],
   "outputs": [],
   "metadata": {}
  }
 ],
 "metadata": {
  "orig_nbformat": 4,
  "language_info": {
   "name": "python",
   "version": "3.8.5",
   "mimetype": "text/x-python",
   "codemirror_mode": {
    "name": "ipython",
    "version": 3
   },
   "pygments_lexer": "ipython3",
   "nbconvert_exporter": "python",
   "file_extension": ".py"
  },
  "kernelspec": {
   "name": "python3",
   "display_name": "Python 3.8.5 64-bit ('base': conda)"
  },
  "interpreter": {
   "hash": "9412f0fcebd90d89f7ce249c151b89f13bb605345c1faab41d624949ec9b3ca5"
  }
 },
 "nbformat": 4,
 "nbformat_minor": 2
}